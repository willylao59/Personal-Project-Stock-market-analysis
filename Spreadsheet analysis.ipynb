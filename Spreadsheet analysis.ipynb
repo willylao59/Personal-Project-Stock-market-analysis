{
 "cells": [
  {
   "cell_type": "markdown",
   "metadata": {},
   "source": [
    "<div class=\"alert alert-danger\">\n",
    "\n",
    "<div style=\"font-size:22pt; line-height:25pt; font-weight:bold; text-align:center;\">Automatic filling of Hamish Hodder's Stock Analysis Spreadsheet </div>\n",
    "\n",
    "Author     : Willy LAO\n",
    "\n",
    "Last update: 30/07/2020\n",
    "\n",
    "</div>"
   ]
  },
  {
   "cell_type": "markdown",
   "metadata": {},
   "source": [
    "**Ressources:**\n",
    "\n",
    "Google Spreadsheet API: https://www.youtube.com/watch?v=sAgWCbGMzTo\n",
    "\n",
    "Selenium: \n",
    "- https://www.scrapingbee.com/blog/practical-xpath-for-web-scraping/\n",
    "- https://1www.scrapingbee.com/blog/selenium-python/\n",
    "\n",
    "Hamish Hodder's Analysis Spreadsheet: https://www.youtube.com/watch?v=P5sICGKnpwE&t=459s\n",
    "\n",
    "Capital expenditure: https://www.koyfin.com/company/AAPL/capex"
   ]
  },
  {
   "cell_type": "markdown",
   "metadata": {},
   "source": [
    "<div class=\"alert alert-warning\">\n",
    "\n",
    "<div style=\"font-size:22pt; line-height:25pt; font-weight:bold; text-align:center;\">Before running this notebook </div>\n",
    "\n",
    "- Download the last version of Hamish Hodder's Analysis spreadsheet (see link)\n",
    "- Create a copy and rename it with the name of the stock to analyze (expl: 'Boeing')\n",
    "- Enable the Google API and the Google Spreadsheet API (see link)\n",
    "- Add Credentials and download the json file of the API\n",
    "- Put it in the same folder as this notebook\n",
    "- Update the information below\n",
    "\n",
    "</div>"
   ]
  },
  {
   "cell_type": "code",
   "execution_count": 21,
   "metadata": {},
   "outputs": [],
   "source": [
    "## TO UPDATE ####################################################\n",
    "\n",
    "ticker_symbol  = 'AAPL'                                         # Symbol of the stock \n",
    "quick_fs_url   = \"https://quickfs.net/company/AAPL\"             # URL on QuickFS\n",
    "spreadsheet_id = '1mpUfmnTC3KOCbxAnDCMCpNdqD0bWrTZSMzL0xcQfhvQ' # ID of the Google spreasheet (to find in its link)\n",
    "\n",
    "##################################################################"
   ]
  },
  {
   "cell_type": "markdown",
   "metadata": {},
   "source": [
    "<div class=\"alert alert-info\">\n",
    "    \n",
    "# Install and import the useful libraries"
   ]
  },
  {
   "cell_type": "code",
   "execution_count": 22,
   "metadata": {},
   "outputs": [],
   "source": [
    "# pip install --upgrade google-api-python-client google-auth-httplib2 google-auth-oauthlib\n",
    "\n",
    "import time\n",
    "import openpyxl\n",
    "import pickle\n",
    "import os\n",
    "import numpy as np\n",
    "\n",
    "from selenium import webdriver\n",
    "from selenium.webdriver.chrome.options import Options\n",
    "from google_auth_oauthlib.flow import Flow, InstalledAppFlow\n",
    "from googleapiclient.discovery import build\n",
    "from googleapiclient.http import MediaFileUpload, MediaIoBaseDownload\n",
    "from google.auth.transport.requests import Request"
   ]
  },
  {
   "cell_type": "markdown",
   "metadata": {},
   "source": [
    "<div class=\"alert alert-info\">\n",
    "    \n",
    "# Define useful functions"
   ]
  },
  {
   "cell_type": "code",
   "execution_count": 23,
   "metadata": {},
   "outputs": [],
   "source": [
    "###############################################################################################\n",
    "# Purpose: Update the variable parameters_scrape\n",
    "\n",
    "# Inputs : parameters_scrape  : contains the value of the parameters to scrape on QuickFS\n",
    "#          parameter_selenium : contains the value of the parameters retrieved from QuickFS \n",
    "#          parameter          : name of the scraped parameter\n",
    "#          financial_statement: Financial statement where the parameter was scraped\n",
    "\n",
    "# Outputs: None\n",
    "\n",
    "# Version: Python 3\n",
    "###############################################################################################\n",
    "\n",
    "def fill_parameters_scrape(parameters_scrape, parameter_selenium, parameter, financial_statement):\n",
    "    # Scrape 10 years: 2010 - 2019\n",
    "    parameters_list = []\n",
    "    \n",
    "    if financial_statement == 'Balance sheet': # The data begins at 2009 for the Balance sheet\n",
    "        indices = np.arange(1,11)\n",
    "    else:                                      # The data begins at 2010 for the Income statement and the Cash flow statement\n",
    "        indices = np.arange(0,10)\n",
    "        \n",
    "    for i in indices:\n",
    "        parameters_list.append(parameter_selenium[i].text)\n",
    "    parameters_scrape[parameter] = parameters_list"
   ]
  },
  {
   "cell_type": "code",
   "execution_count": 24,
   "metadata": {},
   "outputs": [],
   "source": [
    "###############################################################################################\n",
    "# Purpose: Connect to a Google API\n",
    "\n",
    "# Inputs : client_secret_file : json file to download from the Google API (see the tutorial)\n",
    "#          api_name           : API used \n",
    "#          api_version        : Version of the API\n",
    "#          scopes             : read, write... (see all the possibilities on Google API)\n",
    "\n",
    "# Outputs: service: variable enabling to connect to the Google API\n",
    "\n",
    "# Version: Python 3\n",
    "###############################################################################################\n",
    " \n",
    "def Create_Service(client_secret_file, api_name, api_version, *scopes):\n",
    "    print(client_secret_file, api_name, api_version, scopes, sep='-')\n",
    "    CLIENT_SECRET_FILE = client_secret_file\n",
    "    API_SERVICE_NAME = api_name\n",
    "    API_VERSION = api_version\n",
    "    SCOPES = [scope for scope in scopes[0]]\n",
    "    print(SCOPES)\n",
    " \n",
    "    cred = None\n",
    " \n",
    "    pickle_file = f'token_{API_SERVICE_NAME}_{API_VERSION}.pickle'\n",
    "    # print(pickle_file)\n",
    " \n",
    "    if os.path.exists(pickle_file):\n",
    "        with open(pickle_file, 'rb') as token:\n",
    "            cred = pickle.load(token)\n",
    " \n",
    "    if not cred or not cred.valid:\n",
    "        if cred and cred.expired and cred.refresh_token:\n",
    "            cred.refresh(Request())\n",
    "        else:\n",
    "            flow = InstalledAppFlow.from_client_secrets_file(CLIENT_SECRET_FILE, SCOPES)\n",
    "            cred = flow.run_local_server()\n",
    " \n",
    "        with open(pickle_file, 'wb') as token:\n",
    "            pickle.dump(cred, token)\n",
    " \n",
    "    try:\n",
    "        service = build(API_SERVICE_NAME, API_VERSION, credentials=cred)\n",
    "        print(API_SERVICE_NAME, 'service created successfully')\n",
    "        return service\n",
    "    except Exception as e:\n",
    "        print('Unable to connect.')\n",
    "        print(e)\n",
    "        return None"
   ]
  },
  {
   "cell_type": "code",
   "execution_count": 25,
   "metadata": {},
   "outputs": [],
   "source": [
    "###############################################################################################\n",
    "# Purpose: Write in a Google Spreadsheet using the Google Spreadsheets API\n",
    "\n",
    "# Inputs : service          : variable enabling to connect to the Google API\n",
    "#          spreadsheet_id   : ID of the Google spreasheet (to find in its link)\n",
    "#          values           : values to write in the spreadsheet - 2D array ([['blablabla']])\n",
    "#          cell_range_insert: cell of reference from which we begin to write\n",
    "#          worksheet_name   : name of the worksheet where the values will be written\n",
    "\n",
    "# Outputs: None\n",
    "\n",
    "# Version: Python 3\n",
    "###############################################################################################\n",
    "\n",
    "def write_google_sheet(service, spreadsheet_id, values, cell_range_insert, worksheet_name):\n",
    "    value_range_body = {\n",
    "    'majorDimension': 'ROWS',\n",
    "    'values': values\n",
    "    }\n",
    "\n",
    "    service.spreadsheets().values().update(\n",
    "        spreadsheetId=spreadsheet_id,\n",
    "        valueInputOption='USER_ENTERED',\n",
    "        range=worksheet_name + cell_range_insert,\n",
    "        body=value_range_body\n",
    "    ).execute()"
   ]
  },
  {
   "cell_type": "code",
   "execution_count": 26,
   "metadata": {},
   "outputs": [],
   "source": [
    "###########################################################################################################\n",
    "# Purpose: Read a Google Spreadsheet using the Google Spreadsheets API\n",
    "\n",
    "# Inputs : service        : variable enabling to connect to the Google API\n",
    "#          spreadsheet_id : ID of the Google spreasheet (to find in its link)\n",
    "#          cell_range_read: cell of reference from which we begin to read. Contains the worksheet_name too\n",
    "\n",
    "# Outputs: None\n",
    "\n",
    "# Version: Python 3\n",
    "###########################################################################################################\n",
    "\n",
    "def read_google_sheet(service, spreadsheet_id, cell_range_read):\n",
    "    \n",
    "    response = service.spreadsheets().values().get(\n",
    "        spreadsheetId = spreadsheet_id,\n",
    "        majorDimension = 'ROWS',\n",
    "        range = cell_range_read\n",
    "    ).execute()\n",
    "    \n",
    "    return(response)"
   ]
  },
  {
   "cell_type": "markdown",
   "metadata": {},
   "source": [
    "<div class=\"alert alert-info\">\n",
    "    \n",
    "# Scrape QuickFS"
   ]
  },
  {
   "cell_type": "markdown",
   "metadata": {},
   "source": [
    "<div class=\"alert alert-danger\">\n",
    "    \n",
    "<b>If the error `list out of range` appears, it means that the webpage did not have the time to load.\n",
    "\n",
    "Please run the cell again.</b>"
   ]
  },
  {
   "cell_type": "code",
   "execution_count": 27,
   "metadata": {},
   "outputs": [],
   "source": [
    "#### Options to configure the Chrome window opened by Selenium\n",
    "\n",
    "DRIVER_PATH = '/home/willy/Willy taff/Investing/chromedriver' # Path of chromedriver (download it first)\n",
    "\n",
    "# Options of the Chrome window that will open\n",
    "options = Options()\n",
    "options.headless = True                         # If true: a window is not open but runs in the background\n",
    "options.add_argument(\"--window-size=1920,1200\")\n",
    "\n",
    "# Open the url with Chrome\n",
    "driver = webdriver.Chrome(options=options, executable_path=DRIVER_PATH)\n",
    "driver.get(quick_fs_url)\n",
    "\n",
    "# Wait a bit for the page to load\n",
    "time.sleep(5)"
   ]
  },
  {
   "cell_type": "code",
   "execution_count": 28,
   "metadata": {},
   "outputs": [],
   "source": [
    "#### Signing in is required in order to have access to all the data\n",
    "\n",
    "# Click on the Login button\n",
    "driver.find_element_by_xpath('//a[@routerlink=\"/login\" and @id=\"header-content-loginBtn\"]').click()\n",
    "\n",
    "# Input the email\n",
    "email_input = driver.find_element_by_xpath(\"//input[@type='email']\")\n",
    "email_input.send_keys('immortal.bourse@gmail.com')\n",
    "\n",
    "# Input the password\n",
    "password_input = driver.find_element_by_xpath(\"//input[@type='password']\")\n",
    "password_input.send_keys('Leobeedo101259')\n",
    "\n",
    "# Click on the Sign in button\n",
    "driver.find_element_by_xpath('//button[@type=\"submit\" and @id=\"submitLoginFormBtn\"]').click()\n",
    "\n",
    "# Wait a bit for the page to load\n",
    "time.sleep(5)\n",
    "\n",
    "# Connect to the link again\n",
    "driver.get(quick_fs_url)"
   ]
  },
  {
   "cell_type": "code",
   "execution_count": 29,
   "metadata": {},
   "outputs": [],
   "source": [
    "#### Scrape the Income statement on QuickFS\n",
    "\n",
    "# Dictionnary containing the values of the parameters to scrape\n",
    "parameters_scrape = {}\n",
    "\n",
    "# Click on the scrolling list\n",
    "driver.find_element_by_xpath('//div[@class=\"dropdownLabel\"]').click()\n",
    "\n",
    "# Click on Income statement and wait\n",
    "driver.find_element_by_xpath('//a[@id=\"is\"]').click()\n",
    "time.sleep(7)\n",
    "\n",
    "# Scrape the Income statement \n",
    "revenue_selenium = driver.find_elements_by_xpath('//td[contains(text(), \"Revenue\")]/following-sibling::td')\n",
    "eps_selenium = driver.find_elements_by_xpath('//td[contains(text(), \"EPS (Diluted)\")]/following-sibling::td')\n",
    "\n",
    "# Update parameters_scrape\n",
    "fill_parameters_scrape(parameters_scrape, revenue_selenium, 'Revenue', 'Income statement')\n",
    "fill_parameters_scrape(parameters_scrape, eps_selenium, 'EPS (Diluted)', 'Income statement')"
   ]
  },
  {
   "cell_type": "code",
   "execution_count": 30,
   "metadata": {
    "scrolled": true
   },
   "outputs": [],
   "source": [
    "#### Scrape the Balance sheet on QuickFS\n",
    "\n",
    "# Click on the scrolling list\n",
    "driver.find_element_by_xpath('//div[@class=\"dropdownLabel\"]').click()\n",
    "\n",
    "# Click on the Balance sheet and wait\n",
    "driver.find_element_by_xpath('//a[@id=\"bs\"]').click()\n",
    "time.sleep(7)\n",
    "\n",
    "# Scrape the Balance sheet\n",
    "total_current_assets_selenium      = driver.find_elements_by_xpath('//td[contains(text(), \"Total Current Assets\")]/following-sibling::td')\n",
    "total_current_liabilities_selenium = driver.find_elements_by_xpath('//td[contains(text(), \"Total Current Liabilities\")]/following-sibling::td')\n",
    "total_liabilities_selenium         = driver.find_elements_by_xpath('//td[contains(text(), \"Total Liabilities\")]/following-sibling::td')\n",
    "shareholders_equity_selenium       = driver.find_elements_by_xpath('//td[contains(text(), \"Shareholders\\' Equity\")]/following-sibling::td')\n",
    "long_term_debt_selenium            = driver.find_elements_by_xpath('//td[contains(text(), \"Long-Term Debt\")]/following-sibling::td')\n",
    "\n",
    "# Update parameters_scrape\n",
    "fill_parameters_scrape(parameters_scrape, total_current_assets_selenium, 'Total Current Assets', 'Balance sheet')\n",
    "fill_parameters_scrape(parameters_scrape, total_current_liabilities_selenium, 'Total Current Liabilities', 'Balance sheet')\n",
    "fill_parameters_scrape(parameters_scrape, total_liabilities_selenium, 'Total Liabilities', 'Balance sheet')\n",
    "fill_parameters_scrape(parameters_scrape, shareholders_equity_selenium, \"Shareholders' Equity\", 'Balance sheet')\n",
    "fill_parameters_scrape(parameters_scrape, long_term_debt_selenium, \"Long-Term Debt\", 'Balance sheet')"
   ]
  },
  {
   "cell_type": "code",
   "execution_count": 31,
   "metadata": {},
   "outputs": [],
   "source": [
    "#### Scrape the Cashflow statement on QuickFS\n",
    "\n",
    "# Click on the scrolling list\n",
    "driver.find_element_by_xpath('//div[@class=\"dropdownLabel\"]').click()\n",
    "\n",
    "# Click on the Cashflow statement and wait\n",
    "driver.find_element_by_xpath('//a[@id=\"cf\"]').click()\n",
    "time.sleep(7)\n",
    "\n",
    "# Scrape the Cashflow statement\n",
    "cash_from_operations_selenium = driver.find_elements_by_xpath('//td[contains(text(), \"Cash From Operations\")]/following-sibling::td')\n",
    "\n",
    "# Update parameters_scrape\n",
    "fill_parameters_scrape(parameters_scrape, cash_from_operations_selenium, 'Cash From Operations', 'Cashflow statement')\n",
    "\n",
    "# Quit the driver\n",
    "driver.quit()"
   ]
  },
  {
   "cell_type": "markdown",
   "metadata": {},
   "source": [
    "<div class=\"alert alert-info\">\n",
    "    \n",
    "# Write in the Google Spreadsheet"
   ]
  },
  {
   "cell_type": "markdown",
   "metadata": {},
   "source": [
    "<div class=\"alert alert-danger\">\n",
    "    \n",
    "<b>Do not forget to enable Google API and Google Spreadsheet API.\n",
    "\n",
    "You have to download the json file of the API and name it `client_secret.json` as well.</b>"
   ]
  },
  {
   "cell_type": "code",
   "execution_count": 32,
   "metadata": {},
   "outputs": [
    {
     "name": "stdout",
     "output_type": "stream",
     "text": [
      "client_secret.json-sheets-v4-(['https://www.googleapis.com/auth/spreadsheets'],)\n",
      "['https://www.googleapis.com/auth/spreadsheets']\n",
      "sheets service created successfully\n"
     ]
    }
   ],
   "source": [
    "#### Connect to the Google API and Google Spreadsheets API\n",
    "\n",
    "CLIENT_SECRET_FILE = 'client_secret.json'\n",
    "API_NAME = 'sheets'\n",
    "API_VERSION = 'v4'\n",
    "SCOPES = ['https://www.googleapis.com/auth/spreadsheets'] # Read and write\n",
    " \n",
    "# Create the service connecting to the Google API\n",
    "service = Create_Service(CLIENT_SECRET_FILE, API_NAME, API_VERSION, SCOPES)\n",
    " \n",
    "# Connect to the Google Spreadsheets API\n",
    "mySpreadsheets = service.spreadsheets().get(spreadsheetId=spreadsheet_id).execute()"
   ]
  },
  {
   "cell_type": "code",
   "execution_count": 33,
   "metadata": {},
   "outputs": [],
   "source": [
    "#### Write in the sheet DATA INPUT \n",
    "worksheet_name    = 'DATA INPUT!'   # Be careful of the \"!\" at the end of 'DATA INPUT!'\n",
    "\n",
    "# Fill the cell of the Ticker symbol 'A2'\n",
    "values = ([[ticker_symbol]])        # Be careful, needs to be a 2D array: ([['blablabla']])\n",
    "cell_range_insert = 'A2'  \n",
    "write_google_sheet(service, spreadsheet_id, values, cell_range_insert, worksheet_name) \n",
    "\n",
    "# Fill the cells, columns 2 - 12\n",
    "values = (\n",
    "    (parameters_scrape['Revenue']),\n",
    "    (parameters_scrape['EPS (Diluted)']),\n",
    "    (parameters_scrape[\"Shareholders' Equity\"]),\n",
    "    (parameters_scrape[\"Cash From Operations\"])\n",
    ")\n",
    "cell_range_insert = 'B5'\n",
    "write_google_sheet(service, spreadsheet_id, values, cell_range_insert, worksheet_name)\n",
    " \n",
    "    \n",
    "# Fill the cells (11,11), (12,11), (13,11)\n",
    "values = (\n",
    "    ([parameters_scrape['Total Current Assets'][-1]]),\n",
    "    ([parameters_scrape['Total Current Liabilities'][-1]]),\n",
    "    ([parameters_scrape['Total Liabilities'][-1]])\n",
    ")\n",
    "cell_range_insert = 'K11'\n",
    "write_google_sheet(service, spreadsheet_id, values, cell_range_insert, worksheet_name)"
   ]
  },
  {
   "cell_type": "code",
   "execution_count": 34,
   "metadata": {},
   "outputs": [],
   "source": [
    "#### Write in the sheet ROIC\n",
    "worksheet_name = 'ROIC!' # Be careful of the \"!\" at the end of 'ROIC!'\n",
    "\n",
    "# Fill the cells, columns 2 - 12\n",
    "values = (\n",
    "    ([parameters_scrape['Long-Term Debt']]) # Be careful, needs to be a 2D array: ([['blablabla']])\n",
    ")\n",
    "cell_range_insert = 'B3'\n",
    "write_google_sheet(service, spreadsheet_id, values, cell_range_insert, worksheet_name)"
   ]
  },
  {
   "cell_type": "code",
   "execution_count": 35,
   "metadata": {},
   "outputs": [],
   "source": [
    "#### Read the last Cash flow for owners and write it in the Discounted Cash Flow sheet\n",
    "cell_range_read = 'DATA INPUT!K10'\n",
    "\n",
    "response = read_google_sheet(service, spreadsheet_id, cell_range_read)\n",
    "values = ([0, response['values'][0][0]],\n",
    "          [0.02, response['values'][0][0]],\n",
    "          [0.04, response['values'][0][0]],\n",
    "          [0.06, response['values'][0][0]],\n",
    "          [0.08, response['values'][0][0]],\n",
    "         ) # Be careful, needs to be a 2D array: ([['blablabla']])\n",
    "\n",
    "worksheet_name = 'Discounted Cash Flow!'\n",
    "cell_range_insert = 'B2'\n",
    "write_google_sheet(service, spreadsheet_id, values, cell_range_insert, worksheet_name)\n",
    "\n",
    "# Write 1% in the Risk-free rate\n",
    "values = ([[0.01]])\n",
    "cell_range_insert = 'B8'\n",
    "write_google_sheet(service, spreadsheet_id, values, cell_range_insert, worksheet_name)"
   ]
  },
  {
   "cell_type": "markdown",
   "metadata": {},
   "source": [
    "# OLD"
   ]
  },
  {
   "cell_type": "code",
   "execution_count": 36,
   "metadata": {},
   "outputs": [],
   "source": [
    "# #### TO UPDATE\n",
    "\n",
    "# stock = 'Airbus'\n",
    "\n",
    "# ####\n",
    "\n",
    "# file_name = stock + '.xlsx'\n",
    "# workbook  = openpyxl.load_workbook(\"/home/willy/Willy taff/Investing/\" + file_name)\n",
    "\n",
    "# # Sheet: DATA INPUT\n",
    "# worksheet = workbook[\"DATA INPUT\"]\n",
    "\n",
    "# # Fill the cells, columns 2 - 12\n",
    "# for i in range(2,12):\n",
    "#     worksheet.cell(5,i).value = parameters_scrape['Revenue'][i-2]\n",
    "#     worksheet.cell(6,i).value = parameters_scrape['EPS (Diluted)'][i-2]\n",
    "#     worksheet.cell(7,i).value = parameters_scrape[\"Shareholders' Equity\"][i-2]\n",
    "#     worksheet.cell(8,i).value = parameters_scrape[\"Cash From Operations\"][i-2]\n",
    "\n",
    "# # Fill the cells (11,11), (12,11), (13,11)\n",
    "# worksheet.cell(11,11).value = parameters_scrape['Total Current Assets'][-1]\n",
    "# worksheet.cell(12,11).value = parameters_scrape['Total Current Liabilities'][-1]\n",
    "# worksheet.cell(13,11).value = parameters_scrape['Total Liabilities'][-1]\n",
    "\n",
    "# # Sheet: ROIC\n",
    "# worksheet = workbook[\"ROIC\"]\n",
    "\n",
    "# # Fill the cells, columns 2 - 12\n",
    "# for i in range(2,12):\n",
    "#     worksheet.cell(3,i).value = parameters_scrape['Long-Term Debt'][i-2]\n",
    "    \n",
    "# # Save the Excel file\n",
    "# workbook.save(\"/home/willy/Willy taff/Investing/\" + file_name)"
   ]
  },
  {
   "cell_type": "code",
   "execution_count": null,
   "metadata": {},
   "outputs": [],
   "source": []
  }
 ],
 "metadata": {
  "kernelspec": {
   "display_name": "Python 3",
   "language": "python",
   "name": "python3"
  },
  "language_info": {
   "codemirror_mode": {
    "name": "ipython",
    "version": 3
   },
   "file_extension": ".py",
   "mimetype": "text/x-python",
   "name": "python",
   "nbconvert_exporter": "python",
   "pygments_lexer": "ipython3",
   "version": "3.7.3"
  },
  "toc": {
   "base_numbering": 1,
   "nav_menu": {},
   "number_sections": true,
   "sideBar": true,
   "skip_h1_title": false,
   "title_cell": "Table of Contents",
   "title_sidebar": "Contents",
   "toc_cell": false,
   "toc_position": {},
   "toc_section_display": true,
   "toc_window_display": false
  }
 },
 "nbformat": 4,
 "nbformat_minor": 2
}
